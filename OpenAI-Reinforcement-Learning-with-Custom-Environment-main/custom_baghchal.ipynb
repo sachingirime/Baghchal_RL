{
 "cells": [
  {
   "cell_type": "markdown",
   "metadata": {},
   "source": [
    "# 0. Install Dependencies"
   ]
  },
  {
   "cell_type": "code",
   "execution_count": 1,
   "metadata": {
    "collapsed": true
   },
   "outputs": [
    {
     "name": "stdout",
     "output_type": "stream",
     "text": [
      "\u001b[31mERROR: Could not find a version that satisfies the requirement tensorflow==2.3.0 (from versions: none)\u001b[0m\u001b[31m\n",
      "\u001b[0m\u001b[31mERROR: No matching distribution found for tensorflow==2.3.0\u001b[0m\u001b[31m\n",
      "\u001b[0mRequirement already satisfied: gym in /Users/sachingiri/miniconda3/lib/python3.10/site-packages (0.26.2)\n",
      "Requirement already satisfied: numpy>=1.18.0 in /Users/sachingiri/miniconda3/lib/python3.10/site-packages (from gym) (1.24.1)\n",
      "Requirement already satisfied: gym-notices>=0.0.4 in /Users/sachingiri/miniconda3/lib/python3.10/site-packages (from gym) (0.0.8)\n",
      "Requirement already satisfied: cloudpickle>=1.2.0 in /Users/sachingiri/miniconda3/lib/python3.10/site-packages (from gym) (2.2.1)\n",
      "Requirement already satisfied: keras in /Users/sachingiri/miniconda3/lib/python3.10/site-packages (2.9.0)\n",
      "Collecting keras-rl2\n",
      "  Using cached keras_rl2-1.0.5-py3-none-any.whl (52 kB)\n",
      "  Using cached keras_rl2-1.0.4-py3-none-any.whl (53 kB)\n",
      "  Using cached keras-rl2-1.0.3.tar.gz (40 kB)\n",
      "  Preparing metadata (setup.py) ... \u001b[?25ldone\n",
      "\u001b[?25h  Using cached keras-rl2-1.0.2.tar.gz (40 kB)\n",
      "  Preparing metadata (setup.py) ... \u001b[?25ldone\n",
      "\u001b[?25h  Using cached keras-rl2-1.0.1.tar.gz (40 kB)\n",
      "  Preparing metadata (setup.py) ... \u001b[?25ldone\n",
      "\u001b[?25h  Using cached keras_rl2-1.0.0-py3-none-any.whl (53 kB)\n",
      "\u001b[31mERROR: Cannot install keras-rl2==1.0.0, keras-rl2==1.0.1, keras-rl2==1.0.2, keras-rl2==1.0.3, keras-rl2==1.0.4 and keras-rl2==1.0.5 because these package versions have conflicting dependencies.\u001b[0m\u001b[31m\n",
      "\u001b[0m\n",
      "The conflict is caused by:\n",
      "    keras-rl2 1.0.5 depends on tensorflow\n",
      "    keras-rl2 1.0.4 depends on tensorflow>=2.1.0\n",
      "    keras-rl2 1.0.3 depends on tensorflow==2.0.0-beta1\n",
      "    keras-rl2 1.0.2 depends on tensorflow==2.0.0-beta0\n",
      "    keras-rl2 1.0.1 depends on tf-nightly-2.0-preview\n",
      "    keras-rl2 1.0.0 depends on tf-nightly-2.0-preview\n",
      "\n",
      "To fix this you could try to:\n",
      "1. loosen the range of package versions you've specified\n",
      "2. remove package versions to allow pip attempt to solve the dependency conflict\n",
      "\n",
      "\u001b[31mERROR: ResolutionImpossible: for help visit https://pip.pypa.io/en/latest/topics/dependency-resolution/#dealing-with-dependency-conflicts\u001b[0m\u001b[31m\n",
      "\u001b[0m"
     ]
    }
   ],
   "source": [
    "!pip install tensorflow==2.3.0\n",
    "!pip install gym\n",
    "!pip install keras\n",
    "!pip install keras-rl2"
   ]
  },
  {
   "cell_type": "markdown",
   "metadata": {},
   "source": [
    "# 1. Test Random Environment with OpenAI Gym"
   ]
  },
  {
   "cell_type": "code",
   "execution_count": 12,
   "metadata": {},
   "outputs": [],
   "source": [
    "from gym import Env\n",
    "from gym.spaces import Discrete, Box\n",
    "import numpy as np\n",
    "import random\n",
    "import gym\n",
    "from gym import spaces"
   ]
  },
  {
   "cell_type": "code",
   "execution_count": 23,
   "metadata": {},
   "outputs": [],
   "source": [
    "class BaghchalEnv(gym.Env):\n",
    "    metadata = {'render.modes': ['human', 'ascii','rgb_array']}\n",
    "    \n",
    "    def __init__(self):\n",
    "        self.board_size = 5\n",
    "        self.num_tigers = 4\n",
    "        self.num_goats = 20\n",
    "        self.goats_captured = 0\n",
    "        self.winner = ''\n",
    "        \n",
    "        self.board = np.zeros((self.board_size, self.board_size), dtype=int)\n",
    "        self.tigers_positions = []\n",
    "        self.goats_positions = []\n",
    "        self.turn = -1  # 1: tigers, -1: goats\n",
    "        self.done = False\n",
    "        self.moves_since_last_capture = 0\n",
    "        self.max_moves_without_capture = 50\n",
    "\n",
    "        self.action_space = spaces.Tuple((spaces.Discrete(self.board_size), spaces.Discrete(self.board_size)))\n",
    "        self.observation_space = spaces.Box(low=-1, high=1, shape=(self.board_size, self.board_size), dtype=int)\n",
    "    \n",
    "    def reset(self):\n",
    "        #super().reset()\n",
    "        self.board = np.zeros((self.board_size, self.board_size), dtype=int)\n",
    "        self.tigers_positions = [(0, 0), (0, 4), (4, 0), (4, 4)]\n",
    "        self.goats_positions = []\n",
    "        self.turn = -1 #goat move\n",
    "        self.done = False\n",
    "        self.goats_captured = 0\n",
    "        self.winner = ''\n",
    "\n",
    "        \n",
    "        for i, j in self.tigers_positions:\n",
    "            self.board[i, j] = 1\n",
    "        \n",
    "        self.previous_states = [self.board.copy()]\n",
    "        \n",
    "        return self.board.copy()\n",
    "\n",
    "    def baghchal_reward(self, state):\n",
    "        \"\"\"\n",
    "        Calculates the reward for a given state of the Baghchal game.\n",
    "        \n",
    "        Parameters:\n",
    "        state (numpy.ndarray): The current state of the game.\n",
    "        \n",
    "        Returns:\n",
    "        tuple: A tuple (reward_tigers, reward_goats) representing the rewards for the tigers and goats players, respectively.\n",
    "        \"\"\"\n",
    "        if self.done:\n",
    "            if self.winner == 'T':\n",
    "                return(1,-1)\n",
    "            elif self.winner=='G':\n",
    "                return(-1,1)\n",
    "            elif self.winner == 'D':\n",
    "                return(0,0)\n",
    "        return(0,0)\n",
    "        # num_tigers = np.sum(state == 1)\n",
    "        # num_goats = np.sum(state == -1)\n",
    "        \n",
    "        # if num_tigers < 4:  # if tigers have been captured\n",
    "        #     return (-1, 1)\n",
    "        \n",
    "        # if num_goats < 5:  # if goats have captured more than half of the tigers\n",
    "        #     return (1, -1)\n",
    "        \n",
    "        # return (0, 0)\n",
    "\n",
    "\n",
    "    \n",
    "    def step(self, action):\n",
    "        # if self.done:\n",
    "        #         if self.turn == 1:  # Tiger wins\n",
    "        #             return self.board.copy(), 10, True, {}\n",
    "        #         else:  # Goat wins\n",
    "        #             return self.board.copy(), 1, True, {}\n",
    "                \n",
    "        #self.is_game_over()\n",
    "\n",
    "        i, j = action\n",
    "        \n",
    "        if self.turn == 1:  # tigers turn\n",
    "            if (i, j) in self.tigers_positions:\n",
    "                return self.board.copy(), 0, False, {}\n",
    "            if self.board[i, j] != 0:\n",
    "                return self.board.copy(), 0, False, {}\n",
    "            \n",
    "            valid_moves = [(i-1, j), (i+1, j), (i, j-1), (i, j+1)]\n",
    "            valid_moves = [(p, q) for p, q in valid_moves if 0 <= p < self.board_size and 0 <= q < self.board_size]\n",
    "            \n",
    "            for p, q in valid_moves:\n",
    "                if self.board[p, q] == -1:\n",
    "                    middle_i, middle_j = (i+p)//2, (j+q)//2\n",
    "                    if (middle_i, middle_j) in self.tigers_positions:\n",
    "                        self.board[i, j] = 1\n",
    "                        self.board[middle_i, middle_j] = 0\n",
    "                        self.tigers_positions.remove((middle_i, middle_j))\n",
    "                        self.tigers_positions.append((i, j))\n",
    "                        self.moves_since_last_capture = 0\n",
    "                        self.goats_captured += 1\n",
    "                        self.turn = -1\n",
    "                        break\n",
    "                        \n",
    "            else:  # no goat was eaten\n",
    "                self.board[i, j] = 1\n",
    "                \n",
    "                for p, q in self.tigers_positions:\n",
    "                    if (p, q) != (i, j):\n",
    "                        self.board[p, q] = 0\n",
    "                        \n",
    "                self.tigers_positions = [(i, j)]\n",
    "                self.moves_since_last_capture += 1\n",
    "                self.turn = -1\n",
    "                \n",
    "        else:  # goats turn\n",
    "            if len(self.goats_positions) < 20:\n",
    "                if self.board[i, j] != 0:\n",
    "                    return self.board.copy(), 0, False, {}\n",
    "                \n",
    "                self.board[i, j] = -1\n",
    "                self.goats_positions.append((i, j))\n",
    "                self.turn = 1\n",
    "\n",
    "            else:\n",
    "                goat_found = False\n",
    "                \n",
    "                for p, q in [(i-1, j), (i+1, j), (i, j-1), (i, j+1)]:\n",
    "                    if 0 <= p < self.board_size and 0 <= q < self.board_size and self.board[p, q] == -1:\n",
    "                        if (p, q) not in self.goats_positions:\n",
    "                            self.board[p, q] = -1\n",
    "                            self.board[i, j] = 0\n",
    "                            self.goats_positions.remove((i, j))\n",
    "                            self.goats_positions.append((p, q))\n",
    "                            goat_found = True\n",
    "                            break\n",
    "                            \n",
    "                if not goat_found:\n",
    "                    return self.board.copy(), (0,0), False, {}\n",
    "                \n",
    "                self.turn = 1\n",
    "                \n",
    "        # Check if the game is over after the move\n",
    "        self.is_game_over()\n",
    "        \n",
    "        # Update the previous states list\n",
    "        self.previous_states.append(self.board.copy())\n",
    "        \n",
    "        # Check if the game is a draw due to stalemate\n",
    "        if self.moves_since_last_capture >= self.max_moves_without_capture:\n",
    "            self.done = True\n",
    "            self.winner = 'D'\n",
    "            #return self.board.copy(),(0,0),self.done,{}\n",
    "        \n",
    "        # Return the board, reward, done flag and an empty dictionary\n",
    "        reward_tigers, reward_goats = self.baghchal_reward(self.board)\n",
    "        return self.board.copy(), (reward_tigers, reward_goats), self.done, {}\n",
    "        \n",
    "\n",
    "\n",
    "\n",
    "    def _rgb_array(self):\n",
    "        \"\"\"\n",
    "        Return a numpy array representing the RGB image of the current state of the game.\n",
    "        \"\"\"\n",
    "        board_rgb = np.zeros((self.board_size, self.board_size, 3), dtype=np.uint8)\n",
    "        board_rgb[self.board == 1] = np.array([255, 0, 0])  # tigers positions marked with red color\n",
    "        board_rgb[self.board == -1] = np.array([255, 255, 255])  # goats positions marked with white color\n",
    "        board_rgb = np.rot90(board_rgb)\n",
    "        return board_rgb\n",
    "\n",
    "    def render(self, mode='human'):\n",
    "        if mode == 'human':\n",
    "            print(self.board)\n",
    "        elif mode == 'ascii':\n",
    "            print('  ' + ' '.join(str(i) for i in range(self.board_size)))\n",
    "            for i in range(self.board_size):\n",
    "                row = ''.join('.' if self.board[i, j] == 0 else 'T' if (i, j) in self.tigers_positions else 'G' for j in range(self.board_size))\n",
    "                print(i, row)\n",
    "        elif mode == 'rgb_array':\n",
    "            return self._rgb_array()\n",
    "        else:\n",
    "            super(BaghchalEnv, self).render(mode=mode)\n",
    "\n",
    "\n",
    "    def close(self):\n",
    "        pass\n",
    "\n",
    "\n",
    "    def is_game_over(self):\n",
    "        # if len(self.goats_positions) == 0:\n",
    "        #     self.done = True\n",
    "        #     return True\n",
    "\n",
    "        # Check if tigers have captured 5 goats\n",
    "       # if len(self.tigers_positions) == 0 or (self.num_goats - len(self.goats_positions)) >= 5:\n",
    "        if (self.goats_captured >= 5) and (self.turn==1):\n",
    "            self.done = True\n",
    "            self.winner = 'T'\n",
    "            return True\n",
    "\n",
    "        # Check if goats have blocked tigers from being able to move\n",
    "        for i, j in self.tigers_positions:\n",
    "            valid_moves = [(i-1, j), (i+1, j), (i, j-1), (i, j+1)]\n",
    "            valid_moves = [(p, q) for p, q in valid_moves if 0 <= p < self.board_size and 0 <= q < self.board_size]\n",
    "            for p, q in valid_moves:\n",
    "                if self.board[p, q] == 0:\n",
    "                    return False\n",
    "            self.done = True\n",
    "            self.winner = 'G'\n",
    "            return True\n",
    "\n",
    "\n",
    "\n",
    "#The `__init__` method initializes the environment, with the board size, number of tigers, and number of goats. The board is represented as a numpy array of integers, where 0 means empty, 1 means tiger, and -1 means goat. The `turn` variable keeps track of whose turn it is (tigers or goats), and the `done` variable is set to `True` when the game is over.\n",
    "\n",
    "#The `reset` method resets the environment to its initial state, with the tigers and goats positioned in their starting positions.\n",
    "\n",
    "#The `step` method receives an action (a tuple of integers representing a row and a column), and updates the board state accordingly. If the action is invalid (e.g. trying to move to an occupied cell), no change is made to the board. If it is a valid move, and the tigers can eat a goat, they do so and receive a reward of 1. If a goat reaches the other side of the board, the game is over and the goats win with a reward of 10.\n",
    "\n",
    "#The `render` method can display the board in either \"human\" or \"ascii\" mode. In \"human\" mode, it prints the numpy array to the console. In \"ascii\" mode, it prints a more visually appealing representation of the board.\n",
    "\n",
    "#The `close` method is empty, as it is not needed for this environment."
   ]
  },
  {
   "cell_type": "code",
   "execution_count": 24,
   "metadata": {},
   "outputs": [],
   "source": [
    "env = BaghchalEnv()"
   ]
  },
  {
   "cell_type": "code",
   "execution_count": 25,
   "metadata": {},
   "outputs": [
    {
     "data": {
      "text/plain": [
       "(3, 1)"
      ]
     },
     "execution_count": 25,
     "metadata": {},
     "output_type": "execute_result"
    }
   ],
   "source": [
    "env.action_space.sample()"
   ]
  },
  {
   "cell_type": "code",
   "execution_count": 26,
   "metadata": {},
   "outputs": [
    {
     "name": "stdout",
     "output_type": "stream",
     "text": [
      "[[1 0 0 0 1]\n",
      " [0 0 0 0 0]\n",
      " [0 0 0 0 0]\n",
      " [0 0 0 0 0]\n",
      " [1 0 0 0 1]]\n"
     ]
    },
    {
     "ename": "TypeError",
     "evalue": "unsupported operand type(s) for +=: 'int' and 'tuple'",
     "output_type": "error",
     "traceback": [
      "\u001b[0;31m---------------------------------------------------------------------------\u001b[0m",
      "\u001b[0;31mTypeError\u001b[0m                                 Traceback (most recent call last)",
      "Cell \u001b[0;32mIn[26], line 11\u001b[0m\n\u001b[1;32m      9\u001b[0m     action \u001b[39m=\u001b[39m env\u001b[39m.\u001b[39maction_space\u001b[39m.\u001b[39msample()\n\u001b[1;32m     10\u001b[0m     n_state, reward, done, info \u001b[39m=\u001b[39m env\u001b[39m.\u001b[39mstep(action)\n\u001b[0;32m---> 11\u001b[0m     score\u001b[39m+\u001b[39m\u001b[39m=\u001b[39mreward\n\u001b[1;32m     12\u001b[0m \u001b[39mprint\u001b[39m(\u001b[39m'\u001b[39m\u001b[39mEpisode:\u001b[39m\u001b[39m{}\u001b[39;00m\u001b[39m Score:\u001b[39m\u001b[39m{}\u001b[39;00m\u001b[39m'\u001b[39m\u001b[39m.\u001b[39mformat(episode, score))\n",
      "\u001b[0;31mTypeError\u001b[0m: unsupported operand type(s) for +=: 'int' and 'tuple'"
     ]
    }
   ],
   "source": [
    "episodes = 10\n",
    "for episode in range(1, episodes+1):\n",
    "    state = env.reset()\n",
    "    done = False\n",
    "    score = 0 \n",
    "    \n",
    "    while not done:\n",
    "        env.render()\n",
    "        action = env.action_space.sample()\n",
    "        n_state, reward, done, info = env.step(action)\n",
    "        \n",
    "    print('Episode:{} Score:{}'.format(episode, score))"
   ]
  },
  {
   "cell_type": "markdown",
   "metadata": {},
   "source": [
    "# 2. Create a Deep Learning Model with Keras"
   ]
  },
  {
   "cell_type": "code",
   "execution_count": 17,
   "metadata": {},
   "outputs": [],
   "source": [
    "import numpy as np\n",
    "import keras\n",
    "import tensorflow\n",
    "from tensorflow.keras.models import Sequential\n",
    "from tensorflow.keras.layers import Dense, Flatten\n",
    "from tensorflow.keras.optimizers import Adam"
   ]
  },
  {
   "cell_type": "code",
   "execution_count": 19,
   "metadata": {},
   "outputs": [],
   "source": [
    "states = env.observation_space.shape\n",
    "actions = env.action_space"
   ]
  },
  {
   "cell_type": "code",
   "execution_count": 20,
   "metadata": {},
   "outputs": [
    {
     "data": {
      "text/plain": [
       "Tuple(Discrete(5), Discrete(5))"
      ]
     },
     "execution_count": 20,
     "metadata": {},
     "output_type": "execute_result"
    }
   ],
   "source": [
    "actions"
   ]
  },
  {
   "cell_type": "code",
   "execution_count": 21,
   "metadata": {},
   "outputs": [],
   "source": [
    "def build_model(states, actions):\n",
    "    model = Sequential()    \n",
    "    model.add(Dense(24, activation='relu', input_shape=states))\n",
    "    model.add(Dense(24, activation='relu'))\n",
    "    model.add(Dense(actions, activation='linear'))\n",
    "    return model"
   ]
  },
  {
   "cell_type": "code",
   "execution_count": 22,
   "metadata": {},
   "outputs": [
    {
     "ename": "NameError",
     "evalue": "name 'model' is not defined",
     "output_type": "error",
     "traceback": [
      "\u001b[0;31m---------------------------------------------------------------------------\u001b[0m",
      "\u001b[0;31mNameError\u001b[0m                                 Traceback (most recent call last)",
      "Cell \u001b[0;32mIn[22], line 1\u001b[0m\n\u001b[0;32m----> 1\u001b[0m \u001b[39mdel\u001b[39;00m model\n",
      "\u001b[0;31mNameError\u001b[0m: name 'model' is not defined"
     ]
    }
   ],
   "source": [
    "del model "
   ]
  },
  {
   "cell_type": "code",
   "execution_count": 65,
   "metadata": {},
   "outputs": [],
   "source": [
    "model = build_model(states, actions)"
   ]
  },
  {
   "cell_type": "code",
   "execution_count": 66,
   "metadata": {},
   "outputs": [
    {
     "name": "stdout",
     "output_type": "stream",
     "text": [
      "Model: \"sequential_3\"\n",
      "_________________________________________________________________\n",
      "Layer (type)                 Output Shape              Param #   \n",
      "=================================================================\n",
      "dense_9 (Dense)              (None, 24)                48        \n",
      "_________________________________________________________________\n",
      "dense_10 (Dense)             (None, 24)                600       \n",
      "_________________________________________________________________\n",
      "dense_11 (Dense)             (None, 3)                 75        \n",
      "=================================================================\n",
      "Total params: 723\n",
      "Trainable params: 723\n",
      "Non-trainable params: 0\n",
      "_________________________________________________________________\n"
     ]
    }
   ],
   "source": [
    "model.summary()"
   ]
  },
  {
   "cell_type": "markdown",
   "metadata": {},
   "source": [
    "# 3. Build Agent with Keras-RL"
   ]
  },
  {
   "cell_type": "code",
   "execution_count": 67,
   "metadata": {},
   "outputs": [],
   "source": [
    "from rl.agents import DQNAgent\n",
    "from rl.policy import BoltzmannQPolicy\n",
    "from rl.memory import SequentialMemory"
   ]
  },
  {
   "cell_type": "code",
   "execution_count": 68,
   "metadata": {},
   "outputs": [],
   "source": [
    "def build_agent(model, actions):\n",
    "    policy = BoltzmannQPolicy()\n",
    "    memory = SequentialMemory(limit=50000, window_length=1)\n",
    "    dqn = DQNAgent(model=model, memory=memory, policy=policy, \n",
    "                  nb_actions=actions, nb_steps_warmup=10, target_model_update=1e-2)\n",
    "    return dqn"
   ]
  },
  {
   "cell_type": "code",
   "execution_count": null,
   "metadata": {},
   "outputs": [
    {
     "name": "stdout",
     "output_type": "stream",
     "text": [
      "Training for 50000 steps ...\n",
      "Interval 1 (0 steps performed)\n",
      "10000/10000 [==============================] - 50s 5ms/step - reward: -0.6330\n",
      "166 episodes - episode_reward: -38.000 [-60.000, 32.000] - loss: 1.235 - mae: 6.439 - mean_q: -8.204\n",
      "\n",
      "Interval 2 (10000 steps performed)\n",
      "10000/10000 [==============================] - 50s 5ms/step - reward: -0.5052\n",
      "167 episodes - episode_reward: -30.263 [-60.000, 36.000] - loss: 2.347 - mae: 11.012 - mean_q: -15.812\n",
      "\n",
      "Interval 3 (20000 steps performed)\n",
      "10000/10000 [==============================] - 49s 5ms/step - reward: -0.4650\n",
      "167 episodes - episode_reward: -27.964 [-60.000, 36.000] - loss: 2.621 - mae: 11.725 - mean_q: -16.873\n",
      "\n",
      "Interval 4 (30000 steps performed)\n",
      "10000/10000 [==============================] - 49s 5ms/step - reward: -0.4816\n",
      "166 episodes - episode_reward: -28.916 [-60.000, 42.000] - loss: 2.326 - mae: 10.960 - mean_q: -15.735\n",
      "\n",
      "Interval 5 (40000 steps performed)\n",
      " 6449/10000 [==================>...........] - ETA: 17s - reward: -0.4052"
     ]
    }
   ],
   "source": [
    "dqn = build_agent(model, actions)\n",
    "dqn.compile(Adam(lr=1e-3), metrics=['mae'])\n",
    "dqn.fit(env, nb_steps=50000, visualize=False, verbose=1)"
   ]
  },
  {
   "cell_type": "code",
   "execution_count": 54,
   "metadata": {},
   "outputs": [
    {
     "name": "stdout",
     "output_type": "stream",
     "text": [
      "Testing for 100 episodes ...\n",
      "Episode 1: reward: -56.000, steps: 60\n",
      "Episode 2: reward: -60.000, steps: 60\n",
      "Episode 3: reward: -50.000, steps: 60\n",
      "Episode 4: reward: -60.000, steps: 60\n",
      "Episode 5: reward: -56.000, steps: 60\n",
      "Episode 6: reward: -52.000, steps: 60\n",
      "Episode 7: reward: -60.000, steps: 60\n",
      "Episode 8: reward: -50.000, steps: 60\n",
      "Episode 9: reward: -52.000, steps: 60\n",
      "Episode 10: reward: -56.000, steps: 60\n",
      "Episode 11: reward: -60.000, steps: 60\n",
      "Episode 12: reward: -60.000, steps: 60\n",
      "Episode 13: reward: -52.000, steps: 60\n",
      "Episode 14: reward: -52.000, steps: 60\n",
      "Episode 15: reward: -58.000, steps: 60\n",
      "Episode 16: reward: -50.000, steps: 60\n",
      "Episode 17: reward: -54.000, steps: 60\n",
      "Episode 18: reward: -58.000, steps: 60\n",
      "Episode 19: reward: -60.000, steps: 60\n",
      "Episode 20: reward: -56.000, steps: 60\n",
      "Episode 21: reward: -56.000, steps: 60\n",
      "Episode 22: reward: -52.000, steps: 60\n",
      "Episode 23: reward: -60.000, steps: 60\n",
      "Episode 24: reward: -56.000, steps: 60\n",
      "Episode 25: reward: -58.000, steps: 60\n",
      "Episode 26: reward: -58.000, steps: 60\n",
      "Episode 27: reward: -58.000, steps: 60\n",
      "Episode 28: reward: -60.000, steps: 60\n",
      "Episode 29: reward: -58.000, steps: 60\n",
      "Episode 30: reward: -60.000, steps: 60\n",
      "Episode 31: reward: -56.000, steps: 60\n",
      "Episode 32: reward: -56.000, steps: 60\n",
      "Episode 33: reward: -60.000, steps: 60\n",
      "Episode 34: reward: -60.000, steps: 60\n",
      "Episode 35: reward: -54.000, steps: 60\n",
      "Episode 36: reward: -52.000, steps: 60\n",
      "Episode 37: reward: -52.000, steps: 60\n",
      "Episode 38: reward: -56.000, steps: 60\n",
      "Episode 39: reward: -60.000, steps: 60\n",
      "Episode 40: reward: -56.000, steps: 60\n",
      "Episode 41: reward: -54.000, steps: 60\n",
      "Episode 42: reward: -60.000, steps: 60\n",
      "Episode 43: reward: -54.000, steps: 60\n",
      "Episode 44: reward: -60.000, steps: 60\n",
      "Episode 45: reward: -60.000, steps: 60\n",
      "Episode 46: reward: -60.000, steps: 60\n",
      "Episode 47: reward: -60.000, steps: 60\n",
      "Episode 48: reward: -60.000, steps: 60\n",
      "Episode 49: reward: -60.000, steps: 60\n",
      "Episode 50: reward: -54.000, steps: 60\n",
      "Episode 51: reward: -56.000, steps: 60\n",
      "Episode 52: reward: -60.000, steps: 60\n",
      "Episode 53: reward: -58.000, steps: 60\n",
      "Episode 54: reward: -60.000, steps: 60\n",
      "Episode 55: reward: -56.000, steps: 60\n",
      "Episode 56: reward: -60.000, steps: 60\n",
      "Episode 57: reward: -58.000, steps: 60\n",
      "Episode 58: reward: -58.000, steps: 60\n",
      "Episode 59: reward: -58.000, steps: 60\n",
      "Episode 60: reward: -60.000, steps: 60\n",
      "Episode 61: reward: -60.000, steps: 60\n",
      "Episode 62: reward: -60.000, steps: 60\n",
      "Episode 63: reward: -54.000, steps: 60\n",
      "Episode 64: reward: -60.000, steps: 60\n",
      "Episode 65: reward: -60.000, steps: 60\n",
      "Episode 66: reward: -58.000, steps: 60\n",
      "Episode 67: reward: -60.000, steps: 60\n",
      "Episode 68: reward: -58.000, steps: 60\n",
      "Episode 69: reward: -60.000, steps: 60\n",
      "Episode 70: reward: -56.000, steps: 60\n",
      "Episode 71: reward: -58.000, steps: 60\n",
      "Episode 72: reward: -54.000, steps: 60\n",
      "Episode 73: reward: -54.000, steps: 60\n",
      "Episode 74: reward: -52.000, steps: 60\n",
      "Episode 75: reward: -58.000, steps: 60\n",
      "Episode 76: reward: -60.000, steps: 60\n",
      "Episode 77: reward: -58.000, steps: 60\n",
      "Episode 78: reward: -60.000, steps: 60\n",
      "Episode 79: reward: -54.000, steps: 60\n",
      "Episode 80: reward: -60.000, steps: 60\n",
      "Episode 81: reward: -54.000, steps: 60\n",
      "Episode 82: reward: -60.000, steps: 60\n",
      "Episode 83: reward: -54.000, steps: 60\n",
      "Episode 84: reward: -60.000, steps: 60\n",
      "Episode 85: reward: -58.000, steps: 60\n",
      "Episode 86: reward: -54.000, steps: 60\n",
      "Episode 87: reward: -60.000, steps: 60\n",
      "Episode 88: reward: -60.000, steps: 60\n",
      "Episode 89: reward: -56.000, steps: 60\n",
      "Episode 90: reward: -52.000, steps: 60\n",
      "Episode 91: reward: -58.000, steps: 60\n",
      "Episode 92: reward: -60.000, steps: 60\n",
      "Episode 93: reward: -60.000, steps: 60\n",
      "Episode 94: reward: -56.000, steps: 60\n",
      "Episode 95: reward: -54.000, steps: 60\n",
      "Episode 96: reward: -54.000, steps: 60\n",
      "Episode 97: reward: -60.000, steps: 60\n",
      "Episode 98: reward: -60.000, steps: 60\n",
      "Episode 99: reward: -60.000, steps: 60\n",
      "Episode 100: reward: -58.000, steps: 60\n",
      "-57.18\n"
     ]
    }
   ],
   "source": [
    "scores = dqn.test(env, nb_episodes=100, visualize=False)\n",
    "print(np.mean(scores.history['episode_reward']))"
   ]
  },
  {
   "cell_type": "code",
   "execution_count": 29,
   "metadata": {},
   "outputs": [
    {
     "name": "stdout",
     "output_type": "stream",
     "text": [
      "Testing for 15 episodes ...\n",
      "Episode 1: reward: 200.000, steps: 200\n",
      "Episode 2: reward: 200.000, steps: 200\n",
      "Episode 3: reward: 200.000, steps: 200\n",
      "Episode 4: reward: 200.000, steps: 200\n",
      "Episode 5: reward: 200.000, steps: 200\n",
      "Episode 6: reward: 200.000, steps: 200\n",
      "Episode 7: reward: 200.000, steps: 200\n",
      "Episode 8: reward: 200.000, steps: 200\n",
      "Episode 9: reward: 200.000, steps: 200\n",
      "Episode 10: reward: 200.000, steps: 200\n",
      "Episode 11: reward: 200.000, steps: 200\n",
      "Episode 12: reward: 200.000, steps: 200\n",
      "Episode 13: reward: 200.000, steps: 200\n",
      "Episode 14: reward: 200.000, steps: 200\n",
      "Episode 15: reward: 200.000, steps: 200\n"
     ]
    }
   ],
   "source": [
    "_ = dqn.test(env, nb_episodes=15, visualize=True)"
   ]
  },
  {
   "cell_type": "markdown",
   "metadata": {},
   "source": [
    "# 4. Reloading Agent from Memory"
   ]
  },
  {
   "cell_type": "code",
   "execution_count": 30,
   "metadata": {},
   "outputs": [],
   "source": [
    "dqn.save_weights('dqn_weights.h5f', overwrite=True)"
   ]
  },
  {
   "cell_type": "code",
   "execution_count": 31,
   "metadata": {},
   "outputs": [],
   "source": [
    "del model\n",
    "del dqn\n",
    "del env"
   ]
  },
  {
   "cell_type": "code",
   "execution_count": 9,
   "metadata": {},
   "outputs": [],
   "source": [
    "env = gym.make('CartPole-v0')\n",
    "actions = env.action_space.n\n",
    "states = env.observation_space.shape[0]\n",
    "model = build_model(states, actions)\n",
    "dqn = build_agent(model, actions)\n",
    "dqn.compile(Adam(lr=1e-3), metrics=['mae'])"
   ]
  },
  {
   "cell_type": "code",
   "execution_count": 10,
   "metadata": {},
   "outputs": [],
   "source": [
    "dqn.load_weights('dqn_weights.h5f')"
   ]
  },
  {
   "cell_type": "code",
   "execution_count": 11,
   "metadata": {},
   "outputs": [
    {
     "name": "stdout",
     "output_type": "stream",
     "text": [
      "Testing for 5 episodes ...\n",
      "WARNING:tensorflow:From /Users/nicholasrenotte/opt/anaconda3/lib/python3.7/site-packages/tensorflow/python/keras/engine/training_v1.py:2070: Model.state_updates (from tensorflow.python.keras.engine.training) is deprecated and will be removed in a future version.\n",
      "Instructions for updating:\n",
      "This property should not be used in TensorFlow 2.0, as updates are applied automatically.\n",
      "Episode 1: reward: 200.000, steps: 200\n",
      "Episode 2: reward: 200.000, steps: 200\n",
      "Episode 3: reward: 200.000, steps: 200\n",
      "Episode 4: reward: 200.000, steps: 200\n",
      "Episode 5: reward: 200.000, steps: 200\n"
     ]
    }
   ],
   "source": [
    "_ = dqn.test(env, nb_episodes=5, visualize=True)"
   ]
  },
  {
   "cell_type": "code",
   "execution_count": null,
   "metadata": {},
   "outputs": [],
   "source": []
  }
 ],
 "metadata": {
  "kernelspec": {
   "display_name": "base",
   "language": "python",
   "name": "python3"
  },
  "language_info": {
   "codemirror_mode": {
    "name": "ipython",
    "version": 3
   },
   "file_extension": ".py",
   "mimetype": "text/x-python",
   "name": "python",
   "nbconvert_exporter": "python",
   "pygments_lexer": "ipython3",
   "version": "3.10.8"
  },
  "vscode": {
   "interpreter": {
    "hash": "315f7422185457fe0d568221bbc8be627273e431b4a32e462a22b150b1b664f1"
   }
  }
 },
 "nbformat": 4,
 "nbformat_minor": 2
}
